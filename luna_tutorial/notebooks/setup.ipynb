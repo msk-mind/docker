{
 "cells": [
  {
   "cell_type": "markdown",
   "metadata": {},
   "source": [
    "# Local Installation Setup Tutorial\n",
    "\n",
    "Hello! This tutorial shows you how to set up and tear down your workspace in a Jupyter Lab notebook (or ipython environment) in order to execute tasks from the luna pathology library. Here are the steps we will review:\n",
    "\n",
    "1. Prerequisites\n",
    "2. Set up your virtual environment\n",
    "3. Clone the repository and install dependencies\n",
    "4. Setup Luna packages and configurations\n",
    "5. References\n",
    "\n",
    "## 1. Prerequisites\n",
    "\n",
    "A machine with at least 16GB free memory. This tutorial will not run on a laptop with 16GB total memory.\n",
    "\n",
    "It is assumed you have a Jupyter lab environment set up for executing these notebooks. If not, you may follow the instruction at https://jupyterlab.readthedocs.io/en/stable/getting_started/installation.html to install the lab environment on your host system of choice. \n",
    "\n",
    "The software prerequisites listed here must be installed on the host system and not through the jupyter lab (or ipython) environment. \n",
    "\n",
    "You must download Apache Spark to your local computer in the case that it is not already downloaded (https://spark.apache.org/downloads.html).\n",
    "\n",
    "Make sure that you have the correct version of Java, Scala, Python, and R installed in the correct place on your computer. Apache Spark runs on Java 8/11, Scala 2.12, Python 3.6+ and R 3.5+.\n",
    "\n",
    "Here are the links for installations of Java, Scala, Python, and R. Again, make sure you download the correct versions:\n",
    "\n",
    "Java AdoptOpenJDK: https://adoptopenjdk.net/installation.html\n",
    "Scala: https://www.scala-lang.org/download/\n",
    "Python: https://www.python.org/downloads/\n",
    "R: https://www.r-project.org/\n",
    "\n",
    "It is important to have the path to your Java installation in your JAVA_HOME environment variable. "
   ]
  },
  {
   "cell_type": "code",
   "execution_count": 6,
   "metadata": {
    "execution": {
     "iopub.execute_input": "2021-11-16T17:17:14.082537Z",
     "iopub.status.busy": "2021-11-16T17:17:14.082211Z",
     "iopub.status.idle": "2021-11-16T17:17:15.139614Z",
     "shell.execute_reply": "2021-11-16T17:17:15.138544Z",
     "shell.execute_reply.started": "2021-11-16T17:17:14.082508Z"
    },
    "tags": []
   },
   "outputs": [
    {
     "name": "stdout",
     "output_type": "stream",
     "text": [
      "openjdk version \"1.8.0_275\"\n",
      "OpenJDK Runtime Environment (build 1.8.0_275-b01)\n",
      "OpenJDK 64-Bit Server VM (build 25.275-b01, mixed mode)\n",
      "Python 3.6.9\n",
      "JAVA_HOME= /gpfs/mskmindhdp_emc/sw/env/bin/java\n"
     ]
    }
   ],
   "source": [
    "!java -version\n",
    "!python3 --version\n",
    "\n",
    "import os, subprocess\n",
    "os.environ['JAVA_HOME'] = subprocess.check_output(['bash','-c', 'which java']).decode(\"utf-8\")\n",
    "!echo 'JAVA_HOME=' $JAVA_HOME"
   ]
  },
  {
   "cell_type": "markdown",
   "metadata": {},
   "source": [
    "You must also download Hadoop for your computer. On mac, you may install with this command:\n",
    "\n",
    "    brew install hadoop\n",
    "\n",
    "Hadoop has special installation instructions for MacBooks. Here is an instruction link for a single cluster as a guide: https://hadoop.apache.org/docs/stable/hadoop-project-dist/hadoop-common/SingleCluster.html.\n",
    "\n",
    "Next, install Openslide (https://openslide.org/download/). This library will help with reading the svs images and their tiles. On mac, you may install with this command:\n",
    "\n",
    "    brew install openslide\n",
    "\n",
    "Lastly, you must find the location where your Spark software is installed on your machine and the SPARK_HOME environnment variable yourself. You may find your Spark installation directory by executing, \n",
    "\n",
    "    which spark-submit\n",
    "    \n",
    "If for example, the output is \"/opt/spark-3.0.0-bin-hadoop3.2/bin/spark-submit\", then set your SPARK_HOME environment variable to \"/opt/spark-3.0.0-bin-hadoop3.2\" running the code below in a code cell.\n",
    "\n",
    "    import os\n",
    "    os.environ['SPARK_HOME']='/opt/spark-3.0.0-bin-hadoop3.2'\n",
    "    !echo $SPARK_HOME"
   ]
  },
  {
   "cell_type": "markdown",
   "metadata": {},
   "source": [
    "## 2. Set up your virtual environment\n",
    "\n",
    "Next, set up your virtual environment within the jupyter lab (or ipython) environment. The end of this tutorial has steps for tearing down this virtual environment. \n",
    "\n",
    "Open a terminal in your Jupyter Lab environment by selecting File -> New -> Terminal and execute the following commands. It is assumed that your default python environment on the host system has python3-venv installed (sudo apt-get install python3-venv -y).\n",
    "\n",
    "    # change directory to your pathology tutorial sandbox directory\n",
    "    cd [LOCATION-WHERE-YOU-WANT-TO-CREATE-THE-VIRTUAL-ENV]\n",
    "\n",
    "    # create the virtual environment\n",
    "    python3 -m venv pt-venv\n",
    "    \n",
    "    # activate the virtual environment\n",
    "    source pt-venv/bin/activate \n",
    "    \n",
    "    # upgrade pip\n",
    "    pip install --upgrade pip\n",
    "    \n",
    "    # install ipykernel\n",
    "    pip install ipykernel\n",
    "\n",
    "    # Register this env with jupyter lab. It’ll now show up in the\n",
    "    # launcher & kernels list once you refresh the page\n",
    "    python3 -m ipykernel install --user --name pt-venv --display-name \"pathology venv\"\n",
    "\n",
    "    # List kernels to ensure it was created successfully\n",
    "    jupyter kernelspec list\n",
    "    \n",
    "    # deactivate the virtual environment in the terminal\n",
    "    deactivate\n",
    "\n",
    "Now, apply the new kernel to your notebook by first selecting the default kernel (which is typically \"Python 3\") and then selecting your new kernel \"pathology tutorial venv\" from the drop-down list. **NOTE:** It may take a minute for the drop-down list to update. \n",
    "\n",
    "Any python packages you pip install through the jupyter environment will now persist only in this environment.\n"
   ]
  },
  {
   "cell_type": "markdown",
   "metadata": {},
   "source": [
    "## 3. Install Pyluna"
   ]
  },
  {
   "cell_type": "code",
   "execution_count": 7,
   "metadata": {
    "execution": {
     "iopub.execute_input": "2021-11-16T17:48:42.284684Z",
     "iopub.status.busy": "2021-11-16T17:48:42.284455Z",
     "iopub.status.idle": "2021-11-16T17:49:25.496741Z",
     "shell.execute_reply": "2021-11-16T17:49:25.496160Z",
     "shell.execute_reply.started": "2021-11-16T17:48:42.284663Z"
    },
    "tags": []
   },
   "outputs": [
    {
     "name": "stdout",
     "output_type": "stream",
     "text": [
      "Note: you may need to restart the kernel to use updated packages.\n",
      "Note: you may need to restart the kernel to use updated packages.\n"
     ]
    }
   ],
   "source": [
    "%pip install -q pyluna\n",
    "%pip install -q pyluna-pathology"
   ]
  },
  {
   "cell_type": "markdown",
   "metadata": {},
   "source": [
    "Verify that pyluna packages were installed. "
   ]
  },
  {
   "cell_type": "code",
   "execution_count": 8,
   "metadata": {
    "execution": {
     "iopub.execute_input": "2021-11-16T17:49:48.046055Z",
     "iopub.status.busy": "2021-11-16T17:49:48.045818Z",
     "iopub.status.idle": "2021-11-16T17:49:48.893330Z",
     "shell.execute_reply": "2021-11-16T17:49:48.892782Z",
     "shell.execute_reply.started": "2021-11-16T17:49:48.046031Z"
    },
    "tags": []
   },
   "outputs": [
    {
     "name": "stdout",
     "output_type": "stream",
     "text": [
      "pyluna             0.0.3\n",
      "pyluna-common      0.0.3\n",
      "pyluna-core        0.0.3\n",
      "pyluna-pathology   0.0.3\n",
      "Note: you may need to restart the kernel to use updated packages.\n"
     ]
    }
   ],
   "source": [
    "%pip list | grep luna"
   ]
  },
  {
   "cell_type": "markdown",
   "metadata": {},
   "source": [
    "If you have followed all of these steps so far, your jupyter installation should be set up! Try importing the luna libraries."
   ]
  },
  {
   "cell_type": "code",
   "execution_count": 10,
   "metadata": {
    "execution": {
     "iopub.execute_input": "2021-11-16T17:50:21.029687Z",
     "iopub.status.busy": "2021-11-16T17:50:21.029447Z",
     "iopub.status.idle": "2021-11-16T17:50:21.032106Z",
     "shell.execute_reply": "2021-11-16T17:50:21.031688Z",
     "shell.execute_reply.started": "2021-11-16T17:50:21.029666Z"
    },
    "tags": []
   },
   "outputs": [],
   "source": [
    "import luna\n",
    "import luna.pathology"
   ]
  },
  {
   "cell_type": "markdown",
   "metadata": {},
   "source": [
    "You should have no errors with this step. Congratulations, you are ready to move on to the dataset prep!"
   ]
  },
  {
   "cell_type": "markdown",
   "metadata": {},
   "source": [
    "## 4. Setup Luna home and configurations\n"
   ]
  },
  {
   "cell_type": "markdown",
   "metadata": {},
   "source": [
    "First, let's get our bearings"
   ]
  },
  {
   "cell_type": "code",
   "execution_count": 21,
   "metadata": {
    "execution": {
     "iopub.execute_input": "2021-11-16T20:08:26.428332Z",
     "iopub.status.busy": "2021-11-16T20:08:26.428025Z",
     "iopub.status.idle": "2021-11-16T20:08:26.685412Z",
     "shell.execute_reply": "2021-11-16T20:08:26.684570Z",
     "shell.execute_reply.started": "2021-11-16T20:08:26.428301Z"
    }
   },
   "outputs": [
    {
     "name": "stdout",
     "output_type": "stream",
     "text": [
      "total 8009\n",
      "-rw-rw-r-- 1 pashaa pashaa   92887 Nov 16 09:23 dataset-prep.ipynb\n",
      "-rwxrwxr-x 1 pashaa pashaa   27077 Nov 16 08:56 dsa-tools.ipynb\n",
      "-rwxrwxr-x 1 pashaa pashaa   31613 Nov 16 08:56 end-to-end-pipeline.ipynb\n",
      "-rwxrwxr-x 1 pashaa pashaa 7926583 Nov 16 08:56 inference-and-visualization.ipynb\n",
      "-rw-r--r-- 1 pashaa pashaa       0 Nov 16 09:22 manifest.yaml\n",
      "-rwxrwxr-x 1 pashaa pashaa   31971 Nov 16 08:56 model-training.ipynb\n",
      "drwxr-xr-x 3 pashaa pashaa    4096 Nov 16 14:55 sandbox\n",
      "-rwxrwxr-x 1 pashaa pashaa   14752 Nov 16 15:07 setup.ipynb\n",
      "-rw-r--r-- 1 pashaa pashaa    1549 Nov 16 15:04 teardown.ipynb\n",
      "-rwxrwxr-x 1 pashaa pashaa   52140 Nov 16 08:56 tiling.ipynb\n",
      "total 4\n",
      "drwxrwxr-x 4 pashaa pashaa 4096 Nov 16 08:56 classifier\n",
      "drwxrwxr-x 5 pashaa pashaa 4096 Nov 16 14:50 configs\n",
      "-rw-rw-r-- 1 pashaa pashaa 1629 Nov 16 14:42 dockerfile\n",
      "drwxrwxr-x 2 pashaa pashaa 4096 Nov 16 08:56 img\n",
      "-rw-rw-r-- 1 pashaa pashaa 2718 Nov 16 08:56 Makefile\n",
      "drwxrwxr-x 4 pashaa pashaa 4096 Nov 16 15:07 notebooks\n",
      "-rw-rw-r-- 1 pashaa pashaa   48 Nov 16 08:56 README.md\n"
     ]
    }
   ],
   "source": [
    "!ls -l .\n",
    "!ls -l ../"
   ]
  },
  {
   "cell_type": "markdown",
   "metadata": {},
   "source": [
    "Next, let's set up `$LUNA_HOME`. This is required to run tasks from luna packages."
   ]
  },
  {
   "cell_type": "code",
   "execution_count": 12,
   "metadata": {
    "execution": {
     "iopub.execute_input": "2021-11-16T19:52:27.469765Z",
     "iopub.status.busy": "2021-11-16T19:52:27.469513Z",
     "iopub.status.idle": "2021-11-16T19:52:27.590544Z",
     "shell.execute_reply": "2021-11-16T19:52:27.589967Z",
     "shell.execute_reply.started": "2021-11-16T19:52:27.469740Z"
    },
    "tags": []
   },
   "outputs": [
    {
     "name": "stdout",
     "output_type": "stream",
     "text": [
      "env: LUNA_HOME=sandbox/luna_home\n"
     ]
    }
   ],
   "source": [
    "!mkdir -p tutorial_sandbox\n",
    "%env LUNA_HOME=tutorial_sandbox"
   ]
  },
  {
   "cell_type": "code",
   "execution_count": 13,
   "metadata": {
    "execution": {
     "iopub.execute_input": "2021-11-16T19:52:38.083931Z",
     "iopub.status.busy": "2021-11-16T19:52:38.083681Z",
     "iopub.status.idle": "2021-11-16T19:52:38.202051Z",
     "shell.execute_reply": "2021-11-16T19:52:38.201442Z",
     "shell.execute_reply.started": "2021-11-16T19:52:38.083906Z"
    },
    "tags": []
   },
   "outputs": [
    {
     "name": "stdout",
     "output_type": "stream",
     "text": [
      "sandbox/luna_home\n"
     ]
    }
   ],
   "source": [
    "# check $LUNA_HOME\n",
    "!echo $LUNA_HOME"
   ]
  },
  {
   "cell_type": "markdown",
   "metadata": {},
   "source": [
    "2. Copy the `configs/` directory from the tutorial to $LUNA_HOME/configs\n",
    "\n",
    "We have two baseline configuration files.\n",
    "\n",
    "- **configs/datastore.cfg**: configuration for your data stores. POSIX and Minio stores are supported.\n",
    "\n",
    "- **configs/logging.cfg**: configuration for logging level and optional central logging in MongoDB."
   ]
  },
  {
   "cell_type": "code",
   "execution_count": 15,
   "metadata": {
    "execution": {
     "iopub.execute_input": "2021-11-16T19:57:00.636784Z",
     "iopub.status.busy": "2021-11-16T19:57:00.636553Z",
     "iopub.status.idle": "2021-11-16T19:57:00.782358Z",
     "shell.execute_reply": "2021-11-16T19:57:00.781547Z",
     "shell.execute_reply.started": "2021-11-16T19:57:00.636759Z"
    },
    "tags": []
   },
   "outputs": [],
   "source": [
    "!cp -R ../configs $LUNA_HOME/conf"
   ]
  },
  {
   "cell_type": "markdown",
   "metadata": {},
   "source": [
    "## 5. References:\n",
    "\n",
    "Use Virtual Environments Inside Jupyter Notebooks & Jupter Lab [Best Practices] -\n",
    "https://www.zainrizvi.io/blog/jupyter-notebooks-best-practices-use-virtual-environments/\n",
    "\n",
    "Installing the IPython kernel - \n",
    "https://ipython.readthedocs.io/en/stable/install/kernel_install.html#kernels-for-python-2-and-3"
   ]
  },
  {
   "cell_type": "code",
   "execution_count": null,
   "metadata": {},
   "outputs": [],
   "source": []
  }
 ],
 "metadata": {
  "kernelspec": {
   "display_name": "pathology venv",
   "language": "python",
   "name": "pt-venv"
  },
  "language_info": {
   "codemirror_mode": {
    "name": "ipython",
    "version": 3
   },
   "file_extension": ".py",
   "mimetype": "text/x-python",
   "name": "python",
   "nbconvert_exporter": "python",
   "pygments_lexer": "ipython3",
   "version": "3.6.9"
  }
 },
 "nbformat": 4,
 "nbformat_minor": 4
}
